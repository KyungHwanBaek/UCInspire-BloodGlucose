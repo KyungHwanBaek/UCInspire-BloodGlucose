{
 "cells": [
  {
   "cell_type": "code",
   "execution_count": 1,
   "id": "b6d931fc-4ee4-441b-9b7f-a180d6501260",
   "metadata": {},
   "outputs": [
    {
     "name": "stdout",
     "output_type": "stream",
     "text": [
      "X_T1.npy, Y_T1.npy 저장: (10911, 4, 288) (10911, 12)\n",
      "✅  Saved pre-computed features: torch.Size([10911, 3584])\n"
     ]
    }
   ],
   "source": [
    "import torch, numpy as np\n",
    "from torch.utils.data import DataLoader, TensorDataset\n",
    "from model import EmbeddingBlock, FourierVectorize\n",
    "\n",
    "X = np.load(\"X_T1.npy\")\n",
    "X_mean = np.load(\"X_mean.npy\")\n",
    "X_std  = np.load(\"X_std.npy\")\n",
    "Xn  = (X - X_mean) / (X_std + 1e-6)\n",
    "\n",
    "D   = 16            # 임베딩 차원\n",
    "T = X.shape[-1]   # 288\n",
    "LOW_K  = int(T * .10)  # Low-pass\n",
    "device = \"cuda\" if torch.cuda.is_available() else \"cpu\"\n",
    "\n",
    "embed = EmbeddingBlock(D).to(device).eval()\n",
    "fvec  = FourierVectorize(T, k_bins=LOW_K, mode=\"ri\").to(device).eval()\n",
    "\n",
    "bs= 512\n",
    "dataset  = TensorDataset(torch.tensor(Xn, dtype=torch.float32))\n",
    "loader = DataLoader(dataset, batch_size=bs, shuffle=False)\n",
    "\n",
    "all_psi  = []\n",
    "with torch.no_grad():\n",
    "    for (xb,) in loader:\n",
    "        xb = xb.to(device) \n",
    "        H  = embed(xb)\n",
    "        psi = fvec(H).cpu()\n",
    "        all_psi.append(psi)\n",
    "psi = torch.cat(all_psi) \n",
    "torch.save(psi, \"psi_T1.pt\")\n",
    "print(\"✅  Saved pre-computed features:\", psi.shape)\n"
   ]
  },
  {
   "cell_type": "code",
   "execution_count": null,
   "id": "c62872bc-6523-425d-a1ba-7bc4812da227",
   "metadata": {},
   "outputs": [],
   "source": []
  }
 ],
 "metadata": {
  "kernelspec": {
   "display_name": "Python (efficient-kan-KyungHwan)",
   "language": "python",
   "name": "efficient-kan-kyunghwan"
  },
  "language_info": {
   "codemirror_mode": {
    "name": "ipython",
    "version": 3
   },
   "file_extension": ".py",
   "mimetype": "text/x-python",
   "name": "python",
   "nbconvert_exporter": "python",
   "pygments_lexer": "ipython3",
   "version": "3.9.23"
  }
 },
 "nbformat": 4,
 "nbformat_minor": 5
}
